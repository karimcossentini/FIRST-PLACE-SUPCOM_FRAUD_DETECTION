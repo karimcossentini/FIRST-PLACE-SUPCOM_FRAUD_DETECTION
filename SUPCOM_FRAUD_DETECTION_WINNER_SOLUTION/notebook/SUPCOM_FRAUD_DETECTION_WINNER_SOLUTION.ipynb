{
  "nbformat": 4,
  "nbformat_minor": 0,
  "metadata": {
    "colab": {
      "name": "SUPCOM_FRAUD_DETECTION_WINNER_SOLUTION.ipynb",
      "provenance": []
    },
    "kernelspec": {
      "name": "python3",
      "display_name": "Python 3"
    }
  },
  "cells": [
    {
      "cell_type": "markdown",
      "metadata": {
        "id": "pzsZki6UTrib",
        "colab_type": "text"
      },
      "source": [
        "# **IMPORT DATA**"
      ]
    },
    {
      "cell_type": "code",
      "metadata": {
        "id": "X2J4RgslBT1J",
        "colab_type": "code",
        "colab": {
          "base_uri": "https://localhost:8080/",
          "height": 34
        },
        "outputId": "961a694f-0882-4593-8ef3-0eefa3ca4cf7"
      },
      "source": [
        "# import data from google drive :) \n",
        " \n",
        "from google.colab import drive\n",
        "drive.mount('/content/drive')"
      ],
      "execution_count": 1,
      "outputs": [
        {
          "output_type": "stream",
          "text": [
            "Mounted at /content/drive\n"
          ],
          "name": "stdout"
        }
      ]
    },
    {
      "cell_type": "code",
      "metadata": {
        "id": "XI5IP6cXCpYZ",
        "colab_type": "code",
        "colab": {}
      },
      "source": [
        "import pandas as pd\n",
        "import numpy as np\n",
        "pd.set_option(\"display.max_columns\", 160)  # to display all columns of our data \n",
        "pd.set_option(\"display.max_rows\", 160)  # to display all columns of our data \n",
        "\n",
        "from sklearn.ensemble import RandomForestRegressor  # modeling \n",
        "from sklearn.metrics import make_scorer, mean_squared_error  #scoring\n",
        "from sklearn.model_selection import train_test_split  \n",
        "from sklearn.model_selection import cross_val_score\n",
        "\n",
        "import warnings\n",
        "warnings.simplefilter('ignore')\n",
        "\n",
        "import seaborn as sns\n",
        "import matplotlib.pyplot as plt\n",
        "%matplotlib inline"
      ],
      "execution_count": 2,
      "outputs": []
    },
    {
      "cell_type": "code",
      "metadata": {
        "id": "M-I2PLcwA-uE",
        "colab_type": "code",
        "colab": {}
      },
      "source": [
        "path = '/content/drive/My Drive/Tunisian_Fraud_Detection/SUPCOM_HACK_data/'\n",
        "\n",
        "train = pd.read_csv(path +'train.csv')\n",
        "test = pd.read_csv(path +'test.csv')\n",
        "Submission = pd.read_csv(path +'SampleSubmission.csv')"
      ],
      "execution_count": 27,
      "outputs": []
    },
    {
      "cell_type": "code",
      "metadata": {
        "id": "714zF5eBBuGS",
        "colab_type": "code",
        "colab": {
          "base_uri": "https://localhost:8080/",
          "height": 34
        },
        "outputId": "919d25bd-0f74-4050-85ab-9ed50b371c46"
      },
      "source": [
        "train.shape , test.shape"
      ],
      "execution_count": 28,
      "outputs": [
        {
          "output_type": "execute_result",
          "data": {
            "text/plain": [
              "((21295, 121), (7517, 120))"
            ]
          },
          "metadata": {
            "tags": []
          },
          "execution_count": 28
        }
      ]
    },
    {
      "cell_type": "code",
      "metadata": {
        "id": "LNweApto4Ewh",
        "colab_type": "code",
        "colab": {}
      },
      "source": [
        "testID = test.id\n"
      ],
      "execution_count": 29,
      "outputs": []
    },
    {
      "cell_type": "markdown",
      "metadata": {
        "id": "buUw8DBKPuXA",
        "colab_type": "text"
      },
      "source": [
        "# **Feature Engineering**"
      ]
    },
    {
      "cell_type": "code",
      "metadata": {
        "id": "RLqi0t_0P1az",
        "colab_type": "code",
        "colab": {}
      },
      "source": [
        "data=pd.concat([train,test],axis=0)"
      ],
      "execution_count": 5,
      "outputs": []
    },
    {
      "cell_type": "code",
      "metadata": {
        "id": "AIzniLjbP1dP",
        "colab_type": "code",
        "colab": {}
      },
      "source": [
        "# Label encoder : \n",
        "\n",
        "from sklearn.preprocessing import LabelEncoder\n",
        "data['CTR_CATEGO_X'] = LabelEncoder().fit_transform(data['CTR_CATEGO_X'])\n",
        "data['id'] = LabelEncoder().fit_transform(data['id'])"
      ],
      "execution_count": 6,
      "outputs": []
    },
    {
      "cell_type": "code",
      "metadata": {
        "id": "XuW-hweEP1fU",
        "colab_type": "code",
        "colab": {}
      },
      "source": [
        "col_todrop=data.loc[:, data.var() == 0.0].columns"
      ],
      "execution_count": 7,
      "outputs": []
    },
    {
      "cell_type": "code",
      "metadata": {
        "id": "vWBhH26UP1lZ",
        "colab_type": "code",
        "colab": {}
      },
      "source": [
        "data.drop(col_todrop,1,inplace = True)"
      ],
      "execution_count": 8,
      "outputs": []
    },
    {
      "cell_type": "code",
      "metadata": {
        "id": "EMAiF7U9P1pB",
        "colab_type": "code",
        "colab": {}
      },
      "source": [
        "a=data.groupby('BCT_CODBUR')['SND_MNTPAY_I'].mean()\n",
        "data['import_mean'] = data['BCT_CODBUR'].map(a)\n",
        "a=data.groupby('BCT_CODBUR')['TVA_CAFEXO'].mean()\n",
        "data['REVENUE_mean'] = data['BCT_CODBUR'].map(a)\n",
        "a=data.groupby('BCT_CODBUR')['TVA_CRDINI'].mean()\n",
        "data['CRD_mean'] = data['BCT_CODBUR'].map(a)"
      ],
      "execution_count": 9,
      "outputs": []
    },
    {
      "cell_type": "code",
      "metadata": {
        "id": "xVcJ2O2bP1rg",
        "colab_type": "code",
        "colab": {}
      },
      "source": [
        "train=data.iloc[:21295,:]\n",
        "test=data.iloc[21295:,:]"
      ],
      "execution_count": 10,
      "outputs": []
    },
    {
      "cell_type": "code",
      "metadata": {
        "id": "UJhAKQ6GP1tp",
        "colab_type": "code",
        "colab": {}
      },
      "source": [
        "test.drop('target',1,inplace = True)\n",
        "cols=test.columns"
      ],
      "execution_count": 11,
      "outputs": []
    },
    {
      "cell_type": "code",
      "metadata": {
        "id": "482EzjhgP1vo",
        "colab_type": "code",
        "colab": {}
      },
      "source": [
        "To_convert_to_int = ['CTR_OFODEP','CTR_OFODET','CTR_OBLAUT','CTR_OBLASS','CTR_ODTIMB','CTR_OBLTCL','CTR_OBLTHO','CTR_OBLDLI','CTR_OBLTVI',]\n",
        "train[To_convert_to_int] = train[To_convert_to_int].fillna(-1)\n",
        "train[To_convert_to_int] = train[To_convert_to_int].astype('int16')\n",
        "\n",
        "test[To_convert_to_int] = test[To_convert_to_int].fillna(-1)\n",
        "test[To_convert_to_int] = test[To_convert_to_int].astype('int16')"
      ],
      "execution_count": 12,
      "outputs": []
    },
    {
      "cell_type": "code",
      "metadata": {
        "id": "pNFfPxFVP1kK",
        "colab_type": "code",
        "colab": {}
      },
      "source": [
        "train  = train.reset_index(drop=True)\n",
        "test  = test.reset_index(drop=True)"
      ],
      "execution_count": 13,
      "outputs": []
    },
    {
      "cell_type": "code",
      "metadata": {
        "id": "7YhIxQAIP1ha",
        "colab_type": "code",
        "colab": {}
      },
      "source": [
        "target = train.target\n",
        "testID = test.id\n",
        "train.drop(['id','target'],1,inplace=True)\n",
        "test.drop(['id',],1,inplace=True)"
      ],
      "execution_count": 14,
      "outputs": []
    },
    {
      "cell_type": "markdown",
      "metadata": {
        "id": "AQ1SehDE6wtA",
        "colab_type": "text"
      },
      "source": [
        "# **LGBM**"
      ]
    },
    {
      "cell_type": "code",
      "metadata": {
        "id": "wvwnRdSr6zg0",
        "colab_type": "code",
        "colab": {}
      },
      "source": [
        "import lightgbm as lgb\n",
        "\n",
        "categ_features = ['BCT_CODBUR','CTR_MATFIS','FJU_CODFJU','CTR_CESSAT','ACT_CODACT','CTR_OBLDIR','CTR_OBLACP','CTR_OBLRES',\n",
        "                  \n",
        "                  'CTR_OBLFOP','CTR_OBLTFP','CTR_OBLDCO','CTR_OBLTVA','CTR_OFODEP','CTR_OFODET','CTR_OBLAUT','CTR_OBLASS',\n",
        "                  \n",
        "                  'CTR_ODTIMB','CTR_OBLTCL','CTR_OBLTHO','CTR_OBLDLI','CTR_OBLTVI',]\n",
        "\n",
        "trn_data = lgb.Dataset(data=train ,label=target ,categorical_feature=categ_features)"
      ],
      "execution_count": 16,
      "outputs": []
    },
    {
      "cell_type": "code",
      "metadata": {
        "id": "EPMBbcYeEXvc",
        "colab_type": "code",
        "colab": {}
      },
      "source": [
        "params ={'colsample_bytree':0.85,'learning_rate':0.03,'max_depth':8,'n_estimators':3000,'num_leaves':150,\n",
        "                               'silent':False,'metric':'rmse','objective':'regression'}"
      ],
      "execution_count": 17,
      "outputs": []
    },
    {
      "cell_type": "code",
      "metadata": {
        "id": "jcFxu8OE6zjw",
        "colab_type": "code",
        "colab": {}
      },
      "source": [
        "# Train model with training data\n",
        "model = lgb.train(params, trn_data, )"
      ],
      "execution_count": 18,
      "outputs": []
    },
    {
      "cell_type": "markdown",
      "metadata": {
        "id": "TYyFXXAfYSTw",
        "colab_type": "text"
      },
      "source": [
        "## **Predict - LGBM**"
      ]
    },
    {
      "cell_type": "code",
      "metadata": {
        "id": "HUw6rPdOTe57",
        "colab_type": "code",
        "colab": {}
      },
      "source": [
        "LGBM_PREDS = np.clip(model.predict(test,num_iteration=model.best_iteration) , a_min=0 , a_max=100) "
      ],
      "execution_count": 24,
      "outputs": []
    },
    {
      "cell_type": "markdown",
      "metadata": {
        "id": "jBWQp0nyKhFT",
        "colab_type": "text"
      },
      "source": [
        "# **XGBOOST**"
      ]
    },
    {
      "cell_type": "code",
      "metadata": {
        "id": "uM-KfqexKjx4",
        "colab_type": "code",
        "colab": {
          "base_uri": "https://localhost:8080/",
          "height": 51
        },
        "outputId": "a10cd143-3837-46fe-de8c-b6d2a9b09d82"
      },
      "source": [
        "%%time\n",
        "import xgboost as xgb \n",
        "\n",
        "xg_reg = xgb.XGBRegressor(objective ='reg:squarederror', colsample_bytree = 0.8,subsample=0.9,min_child_weight=4, learning_rate = 0.03,\n",
        "                max_depth = 6,   n_estimators = 2000 ,silent=False)\n",
        "xg_reg.fit(train,target )"
      ],
      "execution_count": 19,
      "outputs": [
        {
          "output_type": "stream",
          "text": [
            "CPU times: user 4min 10s, sys: 147 ms, total: 4min 10s\n",
            "Wall time: 4min 10s\n"
          ],
          "name": "stdout"
        }
      ]
    },
    {
      "cell_type": "markdown",
      "metadata": {
        "colab_type": "text",
        "id": "1GGZDiejkKpH"
      },
      "source": [
        "## **Predict Xgboost**"
      ]
    },
    {
      "cell_type": "code",
      "metadata": {
        "colab_type": "code",
        "id": "dDEaFToIkKpJ",
        "colab": {}
      },
      "source": [
        "XGB_PREDS = np.clip(xg_reg.predict(test) , a_min=0 , a_max=100) "
      ],
      "execution_count": 23,
      "outputs": []
    },
    {
      "cell_type": "code",
      "metadata": {
        "colab_type": "code",
        "id": "TZcA73oskKpZ",
        "colab": {
          "base_uri": "https://localhost:8080/",
          "height": 34
        },
        "outputId": "192959a0-f773-4e6d-fd95-ac08011ad6f9"
      },
      "source": [
        "len(XGB_PREDS)"
      ],
      "execution_count": null,
      "outputs": [
        {
          "output_type": "execute_result",
          "data": {
            "text/plain": [
              "7517"
            ]
          },
          "metadata": {
            "tags": []
          },
          "execution_count": 355
        }
      ]
    },
    {
      "cell_type": "markdown",
      "metadata": {
        "id": "L9xXJBytam0L",
        "colab_type": "text"
      },
      "source": [
        "# **Catboost**"
      ]
    },
    {
      "cell_type": "code",
      "metadata": {
        "id": "t40TUzZTapxF",
        "colab_type": "code",
        "colab": {
          "base_uri": "https://localhost:8080/",
          "height": 34
        },
        "outputId": "d3f609f6-cc34-4464-e900-3a1fdd5fcf05"
      },
      "source": [
        "!pip install catboost -q"
      ],
      "execution_count": 20,
      "outputs": [
        {
          "output_type": "stream",
          "text": [
            "\u001b[K     |████████████████████████████████| 66.1MB 66kB/s \n",
            "\u001b[?25h"
          ],
          "name": "stdout"
        }
      ]
    },
    {
      "cell_type": "code",
      "metadata": {
        "id": "rG9SvCuNap1f",
        "colab_type": "code",
        "colab": {
          "base_uri": "https://localhost:8080/",
          "height": 391
        },
        "outputId": "fbc50f6d-8b3d-4997-fae8-7a6dc2ff8715"
      },
      "source": [
        "from catboost import CatBoostRegressor , Pool\n",
        "\n",
        "Catb_model = CatBoostRegressor(random_seed=42,iterations=2000,learning_rate=0.079651)\n",
        "\n",
        "Catb_model.fit(Pool(train,target ,cat_features = categ_features) ,\n",
        "               \n",
        "               verbose=100)"
      ],
      "execution_count": 21,
      "outputs": [
        {
          "output_type": "stream",
          "text": [
            "0:\tlearn: 6.9849972\ttotal: 150ms\tremaining: 5m\n",
            "100:\tlearn: 5.7283631\ttotal: 9.69s\tremaining: 3m 2s\n",
            "200:\tlearn: 5.5649509\ttotal: 19.3s\tremaining: 2m 52s\n",
            "300:\tlearn: 5.4519558\ttotal: 29s\tremaining: 2m 43s\n",
            "400:\tlearn: 5.3528032\ttotal: 38.8s\tremaining: 2m 34s\n",
            "500:\tlearn: 5.2675920\ttotal: 48.5s\tremaining: 2m 25s\n",
            "600:\tlearn: 5.1898382\ttotal: 58.3s\tremaining: 2m 15s\n",
            "700:\tlearn: 5.1253117\ttotal: 1m 8s\tremaining: 2m 6s\n",
            "800:\tlearn: 5.0673777\ttotal: 1m 17s\tremaining: 1m 56s\n",
            "900:\tlearn: 5.0157026\ttotal: 1m 27s\tremaining: 1m 46s\n",
            "1000:\tlearn: 4.9633383\ttotal: 1m 37s\tremaining: 1m 36s\n",
            "1100:\tlearn: 4.9133126\ttotal: 1m 46s\tremaining: 1m 27s\n",
            "1200:\tlearn: 4.8607931\ttotal: 1m 56s\tremaining: 1m 17s\n",
            "1300:\tlearn: 4.8089150\ttotal: 2m 6s\tremaining: 1m 7s\n",
            "1400:\tlearn: 4.7572023\ttotal: 2m 16s\tremaining: 58.2s\n",
            "1500:\tlearn: 4.7117699\ttotal: 2m 25s\tremaining: 48.5s\n",
            "1600:\tlearn: 4.6718346\ttotal: 2m 35s\tremaining: 38.8s\n",
            "1700:\tlearn: 4.6321753\ttotal: 2m 45s\tremaining: 29.1s\n",
            "1800:\tlearn: 4.5926936\ttotal: 2m 55s\tremaining: 19.3s\n",
            "1900:\tlearn: 4.5453191\ttotal: 3m 4s\tremaining: 9.63s\n",
            "1999:\tlearn: 4.5086289\ttotal: 3m 14s\tremaining: 0us\n"
          ],
          "name": "stdout"
        },
        {
          "output_type": "execute_result",
          "data": {
            "text/plain": [
              "<catboost.core.CatBoostRegressor at 0x7f6ab1ff4d30>"
            ]
          },
          "metadata": {
            "tags": []
          },
          "execution_count": 21
        }
      ]
    },
    {
      "cell_type": "markdown",
      "metadata": {
        "colab_type": "text",
        "id": "cMabqgV6kVeE"
      },
      "source": [
        "## **Predict catboost**"
      ]
    },
    {
      "cell_type": "code",
      "metadata": {
        "colab_type": "code",
        "id": "1e8-w0NBkVeK",
        "colab": {}
      },
      "source": [
        "Catb_preds = np.clip( Catb_model.predict(test ) ,a_min=0 ,a_max=100)"
      ],
      "execution_count": 22,
      "outputs": []
    },
    {
      "cell_type": "code",
      "metadata": {
        "colab_type": "code",
        "id": "j8DjZXJfkVeW",
        "colab": {
          "base_uri": "https://localhost:8080/",
          "height": 34
        },
        "outputId": "ea287c9e-fa21-4d28-b727-80d9e3e48181"
      },
      "source": [
        "len(Catb_preds)"
      ],
      "execution_count": null,
      "outputs": [
        {
          "output_type": "execute_result",
          "data": {
            "text/plain": [
              "7517"
            ]
          },
          "metadata": {
            "tags": []
          },
          "execution_count": 362
        }
      ]
    },
    {
      "cell_type": "markdown",
      "metadata": {
        "colab_type": "text",
        "id": "uGWUQ-gij33j"
      },
      "source": [
        "# **Create a submission**"
      ]
    },
    {
      "cell_type": "code",
      "metadata": {
        "id": "1JyOzumNkAM6",
        "colab_type": "code",
        "colab": {}
      },
      "source": [
        "Blend_preds = Catb_preds*0.4 + XGB_PREDS*0.08 + LGBM_PREDS*0.52"
      ],
      "execution_count": 34,
      "outputs": []
    },
    {
      "cell_type": "code",
      "metadata": {
        "colab_type": "code",
        "id": "sbkYIstIj33p",
        "colab": {}
      },
      "source": [
        "Submission_BLEND = pd.DataFrame()\n",
        "Submission_BLEND['client_id'] = testID\n",
        "Submission_BLEND['target'] = np.clip(Blend_preds ,a_min =0, a_max=100)"
      ],
      "execution_count": 35,
      "outputs": []
    },
    {
      "cell_type": "code",
      "metadata": {
        "colab_type": "code",
        "id": "HT-s_iUmj331",
        "colab": {
          "base_uri": "https://localhost:8080/",
          "height": 68
        },
        "outputId": "be6d08ed-2bb1-4368-c86d-9dde37b934ff"
      },
      "source": [
        "print('min' , Submission_BLEND['target'].min() )\n",
        "print('max' , Submission_BLEND['target'].max() )\n",
        "print('mean : ' ,Submission_BLEND['target'].mean())"
      ],
      "execution_count": 36,
      "outputs": [
        {
          "output_type": "stream",
          "text": [
            "min 0.0\n",
            "max 22.738951037376097\n",
            "mean :  11.804381289256543\n"
          ],
          "name": "stdout"
        }
      ]
    },
    {
      "cell_type": "code",
      "metadata": {
        "colab_type": "code",
        "id": "RAeQzUVcj33-",
        "colab": {}
      },
      "source": [
        "Submission_BLEND.to_csv('Submission_BLEND_OK_ALL_DATA__2.csv',index=False)"
      ],
      "execution_count": 37,
      "outputs": []
    },
    {
      "cell_type": "code",
      "metadata": {
        "id": "y2ihDQP6lsfK",
        "colab_type": "code",
        "colab": {
          "base_uri": "https://localhost:8080/",
          "height": 419
        },
        "outputId": "5a3881bf-d722-46f3-a806-6731abdbb6df"
      },
      "source": [
        "Submission_BLEND"
      ],
      "execution_count": 38,
      "outputs": [
        {
          "output_type": "execute_result",
          "data": {
            "text/html": [
              "<div>\n",
              "<style scoped>\n",
              "    .dataframe tbody tr th:only-of-type {\n",
              "        vertical-align: middle;\n",
              "    }\n",
              "\n",
              "    .dataframe tbody tr th {\n",
              "        vertical-align: top;\n",
              "    }\n",
              "\n",
              "    .dataframe thead th {\n",
              "        text-align: right;\n",
              "    }\n",
              "</style>\n",
              "<table border=\"1\" class=\"dataframe\">\n",
              "  <thead>\n",
              "    <tr style=\"text-align: right;\">\n",
              "      <th></th>\n",
              "      <th>client_id</th>\n",
              "      <th>target</th>\n",
              "    </tr>\n",
              "  </thead>\n",
              "  <tbody>\n",
              "    <tr>\n",
              "      <th>0</th>\n",
              "      <td>test_id1120</td>\n",
              "      <td>16.663361</td>\n",
              "    </tr>\n",
              "    <tr>\n",
              "      <th>1</th>\n",
              "      <td>test_id1680</td>\n",
              "      <td>17.160534</td>\n",
              "    </tr>\n",
              "    <tr>\n",
              "      <th>2</th>\n",
              "      <td>test_id1063</td>\n",
              "      <td>10.202504</td>\n",
              "    </tr>\n",
              "    <tr>\n",
              "      <th>3</th>\n",
              "      <td>test_id3731</td>\n",
              "      <td>16.033032</td>\n",
              "    </tr>\n",
              "    <tr>\n",
              "      <th>4</th>\n",
              "      <td>test_id9766</td>\n",
              "      <td>15.404991</td>\n",
              "    </tr>\n",
              "    <tr>\n",
              "      <th>...</th>\n",
              "      <td>...</td>\n",
              "      <td>...</td>\n",
              "    </tr>\n",
              "    <tr>\n",
              "      <th>7512</th>\n",
              "      <td>test_id1497</td>\n",
              "      <td>14.292446</td>\n",
              "    </tr>\n",
              "    <tr>\n",
              "      <th>7513</th>\n",
              "      <td>test_id10025</td>\n",
              "      <td>9.251444</td>\n",
              "    </tr>\n",
              "    <tr>\n",
              "      <th>7514</th>\n",
              "      <td>test_id1045</td>\n",
              "      <td>16.618685</td>\n",
              "    </tr>\n",
              "    <tr>\n",
              "      <th>7515</th>\n",
              "      <td>test_id10695</td>\n",
              "      <td>12.343702</td>\n",
              "    </tr>\n",
              "    <tr>\n",
              "      <th>7516</th>\n",
              "      <td>test_id5616</td>\n",
              "      <td>15.858441</td>\n",
              "    </tr>\n",
              "  </tbody>\n",
              "</table>\n",
              "<p>7517 rows × 2 columns</p>\n",
              "</div>"
            ],
            "text/plain": [
              "         client_id     target\n",
              "0      test_id1120  16.663361\n",
              "1      test_id1680  17.160534\n",
              "2      test_id1063  10.202504\n",
              "3      test_id3731  16.033032\n",
              "4      test_id9766  15.404991\n",
              "...            ...        ...\n",
              "7512   test_id1497  14.292446\n",
              "7513  test_id10025   9.251444\n",
              "7514   test_id1045  16.618685\n",
              "7515  test_id10695  12.343702\n",
              "7516   test_id5616  15.858441\n",
              "\n",
              "[7517 rows x 2 columns]"
            ]
          },
          "metadata": {
            "tags": []
          },
          "execution_count": 38
        }
      ]
    }
  ]
}